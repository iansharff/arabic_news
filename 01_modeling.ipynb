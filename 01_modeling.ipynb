{
 "cells": [
  {
   "cell_type": "markdown",
   "id": "80cac645-360f-48a4-8e96-aef464d72b47",
   "metadata": {},
   "source": [
    "# Model Building"
   ]
  },
  {
   "cell_type": "code",
   "execution_count": 17,
   "id": "2c5eb401-3596-4b73-bae4-57e6e471176a",
   "metadata": {},
   "outputs": [],
   "source": [
    "import pickle\n",
    "\n",
    "import nltk\n",
    "\n",
    "from sklearn.model_selection import train_test_split\n",
    "from sklearn.pipeline import Pipeline\n",
    "\n",
    "from sklearn.feature_extraction.text import CountVectorizer, TfidfVectorizer\n",
    "from sklearn.naive_bayes import MultinomialNB\n",
    "from sklearn.ensemble import RandomForestClassifier, GradientBoostingClassifier\n",
    "from sklearn.svm import SVC\n",
    "\n",
    "from sklearn.metrics import confusion_matrix, accuracy_score, f1_score, classification_report\n",
    "\n",
    "from tools import misc\n",
    "\n",
    "import warnings\n",
    "warnings.filterwarnings(\"ignore\", category=UserWarning)"
   ]
  },
  {
   "cell_type": "code",
   "execution_count": 2,
   "id": "469fdeae-0fbf-44f9-b27f-09670023f39f",
   "metadata": {},
   "outputs": [],
   "source": [
    "with open('raw_data/corpus_df.pkl', 'rb') as f:\n",
    "    data = pickle.load(f)"
   ]
  },
  {
   "cell_type": "code",
   "execution_count": 3,
   "id": "4ba56658-d010-4f32-914b-88d1c07eed30",
   "metadata": {},
   "outputs": [],
   "source": [
    "PATTERN = r'[\\u0621-\\u064A]+'\n",
    "MAX_FEATURES = 10_000\n",
    "STOPWORDS_URL = 'https://raw.githubusercontent.com/mohataher/arabic-stop-words/master/list.txt'\n",
    "TEST_SIZE = 0.2\n",
    "SEED = 42"
   ]
  },
  {
   "cell_type": "code",
   "execution_count": 4,
   "id": "08a4eb2f-6656-4ea3-b21d-57095084b585",
   "metadata": {},
   "outputs": [
    {
     "data": {
      "text/html": [
       "<div>\n",
       "<style scoped>\n",
       "    .dataframe tbody tr th:only-of-type {\n",
       "        vertical-align: middle;\n",
       "    }\n",
       "\n",
       "    .dataframe tbody tr th {\n",
       "        vertical-align: top;\n",
       "    }\n",
       "\n",
       "    .dataframe thead th {\n",
       "        text-align: right;\n",
       "    }\n",
       "</style>\n",
       "<table border=\"1\" class=\"dataframe\">\n",
       "  <thead>\n",
       "    <tr style=\"text-align: right;\">\n",
       "      <th></th>\n",
       "      <th>cls</th>\n",
       "      <th>text</th>\n",
       "    </tr>\n",
       "    <tr>\n",
       "      <th>id</th>\n",
       "      <th></th>\n",
       "      <th></th>\n",
       "    </tr>\n",
       "  </thead>\n",
       "  <tbody>\n",
       "    <tr>\n",
       "      <th>0</th>\n",
       "      <td>sports</td>\n",
       "      <td>أعلن المدرب النمسوي لبوروسيا دورتموند بيتر شتو...</td>\n",
       "    </tr>\n",
       "    <tr>\n",
       "      <th>1</th>\n",
       "      <td>sports</td>\n",
       "      <td>ذكرت وسائل الإعلام البلغارية الجمعة ان العداءة...</td>\n",
       "    </tr>\n",
       "    <tr>\n",
       "      <th>2</th>\n",
       "      <td>sports</td>\n",
       "      <td>برز اسم نجم مانشستر يونايتد رايان غيغز (36 عام...</td>\n",
       "    </tr>\n",
       "    <tr>\n",
       "      <th>3</th>\n",
       "      <td>sports</td>\n",
       "      <td>قال مدرب نادي انتر ميلان الإيطالي خوزيه موريني...</td>\n",
       "    </tr>\n",
       "    <tr>\n",
       "      <th>4</th>\n",
       "      <td>sports</td>\n",
       "      <td>بيتر تشيك: حارس مرمى تشيكي ولد في 20 مايو عام ...</td>\n",
       "    </tr>\n",
       "  </tbody>\n",
       "</table>\n",
       "</div>"
      ],
      "text/plain": [
       "       cls                                               text\n",
       "id                                                           \n",
       "0   sports  أعلن المدرب النمسوي لبوروسيا دورتموند بيتر شتو...\n",
       "1   sports  ذكرت وسائل الإعلام البلغارية الجمعة ان العداءة...\n",
       "2   sports  برز اسم نجم مانشستر يونايتد رايان غيغز (36 عام...\n",
       "3   sports  قال مدرب نادي انتر ميلان الإيطالي خوزيه موريني...\n",
       "4   sports  بيتر تشيك: حارس مرمى تشيكي ولد في 20 مايو عام ..."
      ]
     },
     "execution_count": 4,
     "metadata": {},
     "output_type": "execute_result"
    }
   ],
   "source": [
    "data.head()"
   ]
  },
  {
   "cell_type": "code",
   "execution_count": 5,
   "id": "3424f25d-4807-4e44-9a15-1e94f1ba4a1e",
   "metadata": {},
   "outputs": [],
   "source": [
    "X = data['text']\n",
    "y = data['cls']"
   ]
  },
  {
   "cell_type": "code",
   "execution_count": 6,
   "id": "d568ccdf-a8e0-4349-9205-6c8be42ac0eb",
   "metadata": {},
   "outputs": [],
   "source": [
    "X_train, X_test, y_train, y_test = train_test_split(X, y, \n",
    "                                                    test_size=TEST_SIZE, \n",
    "                                                    random_state=SEED,)"
   ]
  },
  {
   "cell_type": "markdown",
   "id": "a7b1c9cc-1775-49d0-b57e-e63921b75e6d",
   "metadata": {},
   "source": [
    "### Vectorizers"
   ]
  },
  {
   "cell_type": "code",
   "execution_count": 7,
   "id": "6200a573-aa69-47c0-8840-1b62ec455645",
   "metadata": {},
   "outputs": [],
   "source": [
    "stopwords = misc.get_stopwords(STOPWORDS_URL)"
   ]
  },
  {
   "cell_type": "code",
   "execution_count": 8,
   "id": "f34cd613-7423-44fa-8ec0-7f25abfcc9a1",
   "metadata": {},
   "outputs": [],
   "source": [
    "countvec = CountVectorizer(\n",
    "    lowercase=False,\n",
    "    stop_words=stopwords,\n",
    "    strip_accents='unicode',\n",
    "    token_pattern=PATTERN,\n",
    "    max_features=MAX_FEATURES\n",
    ")\n",
    "\n",
    "tfidfvec = TfidfVectorizer(\n",
    "    lowercase=False,\n",
    "    stop_words=stopwords,\n",
    "    strip_accents='unicode',\n",
    "    token_pattern=PATTERN,\n",
    "    max_features=MAX_FEATURES\n",
    ")"
   ]
  },
  {
   "cell_type": "code",
   "execution_count": 9,
   "id": "da098735-77a5-4487-b7b4-30b84f5b2334",
   "metadata": {},
   "outputs": [],
   "source": [
    "# X_train_cv = countvec.fit_transform(X_train)\n",
    "# X_test_cv = countvec.transform(X_test)\n",
    "# cv_vocab = countvec.vocabulary_\n",
    "\n",
    "# X_train_tf = tfidfvec.fit_transform(X_train)\n",
    "# X_test_tf = tfidfvec.transform(X_test)\n",
    "# tf_vocab = tfidfvec.vocabulary_"
   ]
  },
  {
   "cell_type": "markdown",
   "id": "36174d06-671c-40e5-905b-4b768be3c5fb",
   "metadata": {},
   "source": [
    "### Model Pipelines"
   ]
  },
  {
   "cell_type": "code",
   "execution_count": 10,
   "id": "17caa01c-9eee-467a-953b-4e3063bbe91c",
   "metadata": {},
   "outputs": [],
   "source": [
    "pipe_nb = Pipeline([\n",
    "    ('Count Vectorizer', countvec),\n",
    "    ('Naive Bayes', MultinomialNB())\n",
    "], verbose=True)\n",
    "\n",
    "pipe_rfc = Pipeline([\n",
    "    ('Count Vectorizer', countvec),\n",
    "    ('Random Forest Classifier', RandomForestClassifier())\n",
    "], verbose=True)\n",
    "\n",
    "pipe_gbc = Pipeline([\n",
    "    ('Count Vectorizer', countvec),\n",
    "    ('Gradient Boosting Classifier', GradientBoostingClassifier())\n",
    "], verbose=True)\n",
    "\n",
    "pipe_svc = Pipeline([\n",
    "    ('Count Vectorizer', countvec),\n",
    "    ('Support Vector Classifier', SVC())\n",
    "], verbose=True)"
   ]
  },
  {
   "cell_type": "code",
   "execution_count": 11,
   "id": "9db6146f-1181-464a-a087-3ec9e3ca5fc5",
   "metadata": {},
   "outputs": [],
   "source": [
    "pipe_nb_tf = Pipeline([\n",
    "    ('TF-IDF Vectorizer', tfidfvec),\n",
    "    ('Naive Bayes', MultinomialNB())\n",
    "], verbose=True)\n",
    "\n",
    "pipe_rfc_tf = Pipeline([\n",
    "    ('TF-IDF Vectorizer', tfidfvec),\n",
    "    ('Random Forest Classifier', RandomForestClassifier())\n",
    "], verbose=True)\n",
    "\n",
    "pipe_gbc_tf = Pipeline([\n",
    "    ('TF-IDF Vectorizer', tfidfvec),\n",
    "    ('Gradient Boosting Classifier', GradientBoostingClassifier())\n",
    "], verbose=True)\n",
    "\n",
    "pipe_svc_tf = Pipeline([\n",
    "    ('TF-IDF Vectorizer', tfidfvec),\n",
    "    ('Support Vector Classifier', SVC())\n",
    "], verbose=True)"
   ]
  },
  {
   "cell_type": "code",
   "execution_count": 12,
   "id": "e741f166-3031-4b6b-a89a-610aa63a5d91",
   "metadata": {},
   "outputs": [],
   "source": [
    "pipelines_cv = [pipe_nb, pipe_rfc, pipe_gbc, pipe_svc]\n",
    "pipelines_tf = [pipe_nb_tf, pipe_rfc_tf, pipe_gbc_tf, pipe_svc_tf]"
   ]
  },
  {
   "cell_type": "code",
   "execution_count": 13,
   "id": "ed7eb3f9-beef-473c-8e32-97d52fe63f7e",
   "metadata": {},
   "outputs": [
    {
     "name": "stdout",
     "output_type": "stream",
     "text": [
      "[Pipeline] .. (step 1 of 2) Processing Count Vectorizer, total=  15.8s\n",
      "[Pipeline] ....... (step 2 of 2) Processing Naive Bayes, total=   0.1s\n",
      "[Pipeline] .. (step 1 of 2) Processing Count Vectorizer, total=  15.4s\n",
      "[Pipeline] ....... (step 2 of 2) Processing Naive Bayes, total=   0.1s\n",
      "[Pipeline] .. (step 1 of 2) Processing Count Vectorizer, total=  15.6s\n",
      "[Pipeline]  (step 2 of 2) Processing Random Forest Classifier, total=  56.8s\n",
      "[Pipeline] .. (step 1 of 2) Processing Count Vectorizer, total=  15.7s\n",
      "[Pipeline]  (step 2 of 2) Processing Random Forest Classifier, total=  56.3s\n",
      "[Pipeline] .. (step 1 of 2) Processing Count Vectorizer, total=  15.5s\n",
      "[Pipeline]  (step 2 of 2) Processing Gradient Boosting Classifier, total= 3.3min\n",
      "[Pipeline] .. (step 1 of 2) Processing Count Vectorizer, total=  16.1s\n",
      "[Pipeline]  (step 2 of 2) Processing Gradient Boosting Classifier, total= 3.4min\n",
      "[Pipeline] .. (step 1 of 2) Processing Count Vectorizer, total=  15.8s\n",
      "[Pipeline]  (step 2 of 2) Processing Support Vector Classifier, total= 5.3min\n",
      "[Pipeline] .. (step 1 of 2) Processing Count Vectorizer, total=  15.9s\n",
      "[Pipeline]  (step 2 of 2) Processing Support Vector Classifier, total= 5.3min\n"
     ]
    }
   ],
   "source": [
    "pipelines_fitted_cv = []\n",
    "pipelines_fitted_tf = []\n",
    "\n",
    "for i in range(len(pipelines_cv)):\n",
    "    cv_fitted = pipelines_cv[i].fit(X_train, y_train)\n",
    "    pipelines_fitted_cv.append(cv_fitted)\n",
    "    misc.save(cv_fitted, f'outputs/models/cv{i}.pkl')\n",
    "    \n",
    "    tf_fitted = pipelines_cv[i].fit(X_train, y_train)\n",
    "    pipelines_fitted_tf.append(tf_fitted)\n",
    "    misc.save(tf_fitted, f'outputs/models/tfidf{i}.pkl')"
   ]
  },
  {
   "cell_type": "code",
   "execution_count": 16,
   "id": "4e654d85-9f3d-4b8d-8887-f6c2e6ffbd6d",
   "metadata": {},
   "outputs": [
    {
     "data": {
      "text/plain": [
       "array(['culture', 'finance', 'medical', 'politics', 'religion', 'sports',\n",
       "       'tech'], dtype='<U8')"
      ]
     },
     "execution_count": 16,
     "metadata": {},
     "output_type": "execute_result"
    }
   ],
   "source": [
    "import matplotlib.\n",
    "import seaborn as sns\n",
    "\n",
    "def plot_confusion_matrices(model, X_train, X_test, y_train, y_test):\n",
    "    y_hat_train = model.predict(X_train)\n",
    "    y_hat_test = model.predict(X_test)\n",
    "    \n",
    "    cm_train = confusion_matrix(y_train, y_hat_train, labels=misc.CLASSES)\n",
    "    cm_test = confustion_matrix(y_test, y_hat_test, labels=misc.CLASSES)\n",
    "    \n",
    "    fig, (ax_train, ax_test) = plt.subplots(1, 2, figsize=(15, 8))\n",
    "    \n",
    "    sns.heatmap(\n",
    "        \n",
    "    )\n",
    "    \n",
    "    "
   ]
  },
  {
   "cell_type": "code",
   "execution_count": null,
   "id": "47933158-83cd-40b9-b336-9086dbd79d4e",
   "metadata": {},
   "outputs": [],
   "source": [
    "import matplotlib.pyplot as plt\n",
    "import seaborn as sns\n",
    "from sklearn.metrics import confusion_matrix\n",
    "\n",
    "fig, axes = plt.subplots(1, 2, figsize=(15, 8))\n",
    "sns.heatmap(\n",
    "    data=confusion_matrix(y_train, y_hat_trains[0], labels=pipelines_fitted[0].steps[1][1].classes_),\n",
    "    annot=True,\n",
    "    cmap='Blues',\n",
    "    fmt='.0f',\n",
    "    ax=axes[0]\n",
    ")\n",
    "axes[0].set_title('Training')\n",
    "print(pipelines_fitted[0].steps[1][1].classes_)"
   ]
  }
 ],
 "metadata": {
  "kernelspec": {
   "display_name": "arabicnews",
   "language": "python",
   "name": "arabicnews"
  },
  "language_info": {
   "codemirror_mode": {
    "name": "ipython",
    "version": 3
   },
   "file_extension": ".py",
   "mimetype": "text/x-python",
   "name": "python",
   "nbconvert_exporter": "python",
   "pygments_lexer": "ipython3",
   "version": "3.8.11"
  }
 },
 "nbformat": 4,
 "nbformat_minor": 5
}
