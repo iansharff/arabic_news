{
 "cells": [
  {
   "cell_type": "markdown",
   "id": "80cac645-360f-48a4-8e96-aef464d72b47",
   "metadata": {},
   "source": [
    "# Model Building"
   ]
  },
  {
   "cell_type": "code",
   "execution_count": 58,
   "id": "2c5eb401-3596-4b73-bae4-57e6e471176a",
   "metadata": {},
   "outputs": [],
   "source": [
    "import pickle\n",
    "\n",
    "import nltk\n",
    "\n",
    "from sklearn.preprocessing import LabelEncoder\n",
    "from sklearn.feature_extraction.text import CountVectorizer, TfidfVectorizer\n",
    "from sklearn.model_selection import train_test_split\n",
    "from sklearn.pipeline import Pipeline\n",
    "from sklearn.naive_bayes import MultinomialNB\n",
    "from sklearn.ensemble import RandomForestClassifier, GradientBoostingClassifier\n",
    "from sklearn.svm import SVC\n",
    "\n",
    "from tools import misc\n",
    "\n",
    "import warnings\n",
    "warnings.filterwarnings(\"ignore\", category=UserWarning)"
   ]
  },
  {
   "cell_type": "code",
   "execution_count": 2,
   "id": "469fdeae-0fbf-44f9-b27f-09670023f39f",
   "metadata": {},
   "outputs": [],
   "source": [
    "with open('raw_data/corpus_df.pkl', 'rb') as f:\n",
    "    data = pickle.load(f)"
   ]
  },
  {
   "cell_type": "code",
   "execution_count": 3,
   "id": "4ba56658-d010-4f32-914b-88d1c07eed30",
   "metadata": {},
   "outputs": [],
   "source": [
    "PATTERN = r'[\\u0621-\\u064A]+'\n",
    "MAX_FEATURES = 10_000\n",
    "STOPWORDS_URL = 'https://raw.githubusercontent.com/mohataher/arabic-stop-words/master/list.txt'\n",
    "TEST_SIZE = 0.2\n",
    "SEED = 42"
   ]
  },
  {
   "cell_type": "code",
   "execution_count": 4,
   "id": "08a4eb2f-6656-4ea3-b21d-57095084b585",
   "metadata": {},
   "outputs": [
    {
     "data": {
      "text/html": [
       "<div>\n",
       "<style scoped>\n",
       "    .dataframe tbody tr th:only-of-type {\n",
       "        vertical-align: middle;\n",
       "    }\n",
       "\n",
       "    .dataframe tbody tr th {\n",
       "        vertical-align: top;\n",
       "    }\n",
       "\n",
       "    .dataframe thead th {\n",
       "        text-align: right;\n",
       "    }\n",
       "</style>\n",
       "<table border=\"1\" class=\"dataframe\">\n",
       "  <thead>\n",
       "    <tr style=\"text-align: right;\">\n",
       "      <th></th>\n",
       "      <th>cls</th>\n",
       "      <th>text</th>\n",
       "    </tr>\n",
       "    <tr>\n",
       "      <th>id</th>\n",
       "      <th></th>\n",
       "      <th></th>\n",
       "    </tr>\n",
       "  </thead>\n",
       "  <tbody>\n",
       "    <tr>\n",
       "      <th>0</th>\n",
       "      <td>sports</td>\n",
       "      <td>أعلن المدرب النمسوي لبوروسيا دورتموند بيتر شتو...</td>\n",
       "    </tr>\n",
       "    <tr>\n",
       "      <th>1</th>\n",
       "      <td>sports</td>\n",
       "      <td>ذكرت وسائل الإعلام البلغارية الجمعة ان العداءة...</td>\n",
       "    </tr>\n",
       "    <tr>\n",
       "      <th>2</th>\n",
       "      <td>sports</td>\n",
       "      <td>برز اسم نجم مانشستر يونايتد رايان غيغز (36 عام...</td>\n",
       "    </tr>\n",
       "    <tr>\n",
       "      <th>3</th>\n",
       "      <td>sports</td>\n",
       "      <td>قال مدرب نادي انتر ميلان الإيطالي خوزيه موريني...</td>\n",
       "    </tr>\n",
       "    <tr>\n",
       "      <th>4</th>\n",
       "      <td>sports</td>\n",
       "      <td>بيتر تشيك: حارس مرمى تشيكي ولد في 20 مايو عام ...</td>\n",
       "    </tr>\n",
       "  </tbody>\n",
       "</table>\n",
       "</div>"
      ],
      "text/plain": [
       "       cls                                               text\n",
       "id                                                           \n",
       "0   sports  أعلن المدرب النمسوي لبوروسيا دورتموند بيتر شتو...\n",
       "1   sports  ذكرت وسائل الإعلام البلغارية الجمعة ان العداءة...\n",
       "2   sports  برز اسم نجم مانشستر يونايتد رايان غيغز (36 عام...\n",
       "3   sports  قال مدرب نادي انتر ميلان الإيطالي خوزيه موريني...\n",
       "4   sports  بيتر تشيك: حارس مرمى تشيكي ولد في 20 مايو عام ..."
      ]
     },
     "execution_count": 4,
     "metadata": {},
     "output_type": "execute_result"
    }
   ],
   "source": [
    "data.head()"
   ]
  },
  {
   "cell_type": "code",
   "execution_count": 5,
   "id": "3424f25d-4807-4e44-9a15-1e94f1ba4a1e",
   "metadata": {},
   "outputs": [],
   "source": [
    "X = data['text']\n",
    "y = data['cls']"
   ]
  },
  {
   "cell_type": "code",
   "execution_count": 6,
   "id": "d568ccdf-a8e0-4349-9205-6c8be42ac0eb",
   "metadata": {},
   "outputs": [],
   "source": [
    "X_train, X_test, y_train, y_test = train_test_split(X, y, test_size=TEST_SIZE, random_state=SEED, stratified=y)"
   ]
  },
  {
   "cell_type": "markdown",
   "id": "a7b1c9cc-1775-49d0-b57e-e63921b75e6d",
   "metadata": {},
   "source": [
    "### Vectorizers"
   ]
  },
  {
   "cell_type": "code",
   "execution_count": 7,
   "id": "6200a573-aa69-47c0-8840-1b62ec455645",
   "metadata": {},
   "outputs": [],
   "source": [
    "stopwords = misc.get_stopwords(STOPWORDS_URL)"
   ]
  },
  {
   "cell_type": "code",
   "execution_count": 8,
   "id": "f34cd613-7423-44fa-8ec0-7f25abfcc9a1",
   "metadata": {},
   "outputs": [],
   "source": [
    "countvec = CountVectorizer(\n",
    "    lowercase=False,\n",
    "    stop_words=stopwords,\n",
    "    strip_accents='unicode',\n",
    "    token_pattern=PATTERN,\n",
    "    max_features=MAX_FEATURES\n",
    ")\n",
    "\n",
    "tfidfvec = TfidfVectorizer(\n",
    "    lowercase=False,\n",
    "    stop_words=stopwords,\n",
    "    strip_accents='unicode',\n",
    "    token_pattern=PATTERN,\n",
    "    max_features=MAX_FEATURES\n",
    ")"
   ]
  },
  {
   "cell_type": "code",
   "execution_count": null,
   "id": "da098735-77a5-4487-b7b4-30b84f5b2334",
   "metadata": {},
   "outputs": [],
   "source": [
    "X_train_cv = countvec.fit_transform(X_train)\n",
    "X_test_cv = countvec.transform(X_test)\n",
    "cv_vocab = countvec.vocabulary_\n",
    "\n",
    "X_train_tf = tfidfvec.fit_transform(X_train)\n",
    "X_test_tf = tfidfvec.transform(X_test)\n",
    "tf_vocab = tfidfvec.vocabulary_"
   ]
  },
  {
   "cell_type": "markdown",
   "id": "e4bf6a90-5d23-45c5-9b08-f43996b30f78",
   "metadata": {},
   "source": [
    "## Naïve Bayes"
   ]
  },
  {
   "cell_type": "code",
   "execution_count": 9,
   "id": "ed98a9fe-1098-46b1-b716-cb2f97a3fdeb",
   "metadata": {},
   "outputs": [],
   "source": [
    "nb = MultinomialNB()"
   ]
  },
  {
   "cell_type": "code",
   "execution_count": 9,
   "id": "1571b8d3-3c08-4846-a1f3-88e271c87c38",
   "metadata": {},
   "outputs": [],
   "source": [
    "rfc = RandomForestClassifier()\n",
    "\n",
    "gbc = GradientBoostingClassifier()\n",
    "\n",
    "svc = SVC()"
   ]
  },
  {
   "cell_type": "code",
   "execution_count": 12,
   "id": "17caa01c-9eee-467a-953b-4e3063bbe91c",
   "metadata": {},
   "outputs": [],
   "source": [
    "pipe_nb = Pipeline([\n",
    "    ('Count Vectorizer', countvec),\n",
    "    ('Naive Bayes', nb)\n",
    "], verbose=True)\n",
    "\n",
    "pipe_rfc = Pipeline([\n",
    "    ('Count Vectorizer', countvec),\n",
    "    ('Random Forest Classifier', rfc)\n",
    "], verbose=True)\n",
    "\n",
    "pipe_gbc = Pipeline([\n",
    "    ('Count Vectorizer', countvec),\n",
    "    ('Gradient Boosting Classifier', gbc)\n",
    "], verbose=True)\n",
    "\n",
    "pipe_svc = Pipeline([\n",
    "    ('Count Vectorizer', countvec),\n",
    "    ('Support Vector Classifier', svc)\n",
    "], verbose=True)"
   ]
  },
  {
   "cell_type": "code",
   "execution_count": null,
   "id": "edc81c28-d4c9-46f1-8708-f12c4202a7b8",
   "metadata": {},
   "outputs": [],
   "source": []
  },
  {
   "cell_type": "code",
   "execution_count": 56,
   "id": "901f2f3c-bde9-496d-92fd-7bb194020a31",
   "metadata": {},
   "outputs": [],
   "source": [
    "pipe_nb.fit(X_train, y_train)\n",
    "y_hat_train = pipe_nb.predict(X_train)\n",
    "y_hat_test = pipe_nb.predict(X_test)\n",
    "\n",
    "cm_train = confusion_matrix(y_train, y_hat_train, labels=pipe_nb.steps[1])\n",
    "cm_test = confusion_matrix(y_test, y_hat_test)"
   ]
  },
  {
   "cell_type": "code",
   "execution_count": 57,
   "id": "541c131f-6f3c-4902-9723-15e97fed3051",
   "metadata": {},
   "outputs": [
    {
     "data": {
      "text/plain": [
       "<matplotlib.axes._subplots.AxesSubplot at 0x7fbdc9214c10>"
      ]
     },
     "execution_count": 57,
     "metadata": {},
     "output_type": "execute_result"
    },
    {
     "data": {
      "image/png": "[encoded data removed]",
      "text/plain": [
       "<Figure size 432x288 with 2 Axes>"
      ]
     },
     "metadata": {
      "needs_background": "light"
     },
     "output_type": "display_data"
    }
   ],
   "source": [
    "sns.heatmap(\n",
    "    cm_train,\n",
    "    annot=True,\n",
    "    fmt='.0f',\n",
    "    cmap='Blues',\n",
    "    xticklabels=\n",
    ")"
   ]
  },
  {
   "cell_type": "code",
   "execution_count": 12,
   "id": "e741f166-3031-4b6b-a89a-610aa63a5d91",
   "metadata": {},
   "outputs": [],
   "source": [
    "pipelines = [pipe_nb, pipe_rfc, pipe_gbc, pipe_svc]"
   ]
  },
  {
   "cell_type": "code",
   "execution_count": 13,
   "id": "ed7eb3f9-beef-473c-8e32-97d52fe63f7e",
   "metadata": {},
   "outputs": [
    {
     "name": "stderr",
     "output_type": "stream",
     "text": [
      "/Users/iansharff/opt/anaconda3/envs/arabicnews/lib/python3.8/site-packages/sklearn/feature_extraction/text.py:382: UserWarning: Your stop_words may be inconsistent with your preprocessing. Tokenizing the stop words generated tokens ['اب', 'ابتدا', 'ابدا', 'ابريل', 'ابو', 'اجمع', 'احدى', 'اخ', 'اخبر', 'اخذ', 'اخو', 'اذ', 'اذار', 'اذما', 'اذن', 'اربع', 'اربعاء', 'اربعماية', 'اربعمية', 'ارتد', 'ارى', 'ازاء', 'اسكن', 'اصلا', 'اض', 'اطعم', 'اعطى', 'اعلم', 'اغسطس', 'افريل', 'افعل', 'افعله', 'اقبل', 'اكتوبر', 'ال', 'الالاء', 'الالى', 'الفى', 'اليك', 'اليكم', 'اليكما', 'اليكن', 'ام', 'امامك', 'امد', 'امين', 'انا', 'اناء', 'انبا', 'انت', 'انتم', 'انتما', 'انتن', 'انشا', 'انفا', 'انفك', 'انى', 'اه', 'اها', 'اهلا', 'اوت', 'اوشك', 'اولاء', 'اولالك', 'اوليك', 'اوه', 'اى', 'ايا', 'اياك', 'اياكم', 'اياكما', 'اياكن', 'ايان', 'ايانا', 'اياه', 'اياها', 'اياهم', 'اياهما', 'اياهن', 'اياي', 'ايلول', 'اين', 'ايه', 'بخ', 'برح', 'بس', 'بطان', 'بله', 'بوسا', 'بيس', 'تان', 'تانك', 'تبدل', 'تحول', 'تسعماية', 'تسعمية', 'تعلم', 'ته', 'تي', 'تين', 'ثلاثماية', 'ثلاثمية', 'ثمانمية', 'ثمة', 'ثمنمية', 'حدث', 'حذار', 'حم', 'حي', 'خبر', 'خمسماية', 'خمسمية', 'ذان', 'ذه', 'ذي', 'ذين', 'راى', 'رب', 'سبعماية', 'سبعمية', 'ستماية', 'ستمية', 'سيما', 'شتان', 'صه', 'طق', 'ظن', 'عد', 'عدس', 'قط', 'كاي', 'كاين', 'كخ', 'كلا', 'كلما', 'لان', 'مافتي', 'ماية', 'مرة', 'مكانك', 'مكانكن', 'مية', 'ميتان', 'نبا', 'نخ', 'هاتان', 'هاته', 'هاتي', 'هاتين', 'هاك', 'هب', 'هج', 'هذان', 'هذي', 'هذين', 'هلا', 'هولاء', 'وابو', 'واها', 'وراءك', 'وشكان', 'وي'] not in stop_words.\n",
      "  warnings.warn('Your stop_words may be inconsistent with '\n"
     ]
    },
    {
     "name": "stdout",
     "output_type": "stream",
     "text": [
      "[Pipeline] .. (step 1 of 2) Processing Count Vectorizer, total=  15.8s\n",
      "[Pipeline] ....... (step 2 of 2) Processing Naive Bayes, total=   0.1s\n",
      "[Pipeline] .. (step 1 of 2) Processing Count Vectorizer, total=  15.7s\n",
      "[Pipeline]  (step 2 of 2) Processing Random Forest Classifier, total=  56.0s\n",
      "[Pipeline] .. (step 1 of 2) Processing Count Vectorizer, total=  15.8s\n",
      "[Pipeline]  (step 2 of 2) Processing Gradient Boosting Classifier, total= 3.3min\n",
      "[Pipeline] .. (step 1 of 2) Processing Count Vectorizer, total=  15.9s\n",
      "[Pipeline]  (step 2 of 2) Processing Support Vector Classifier, total= 5.3min\n"
     ]
    }
   ],
   "source": [
    "pipelines_fitted = []\n",
    "\n",
    "for pipeline in pipelines:\n",
    "    pipelines_fitted.append(pipeline.fit(X_train, y_train))"
   ]
  },
  {
   "cell_type": "code",
   "execution_count": 17,
   "id": "5cd793e0-4d42-4702-8c73-ca064874bfa7",
   "metadata": {},
   "outputs": [],
   "source": [
    "y_hat_trains = [pipeline.predict(X_train) for pipeline in pipelines_fitted]"
   ]
  },
  {
   "cell_type": "code",
   "execution_count": 18,
   "id": "8796d7b5-2039-4177-99fc-7331afd56d59",
   "metadata": {},
   "outputs": [],
   "source": [
    "y_hat_tests = [pipeline.predict(X_test) for pipeline in pipelines_fitted]"
   ]
  },
  {
   "cell_type": "code",
   "execution_count": 55,
   "id": "47933158-83cd-40b9-b336-9086dbd79d4e",
   "metadata": {},
   "outputs": [
    {
     "name": "stdout",
     "output_type": "stream",
     "text": [
      "['culture' 'finance' 'medical' 'politics' 'religion' 'sports' 'tech']\n"
     ]
    },
    {
     "data": {
      "image/png": "[encoded data removed]",
      "text/plain": [
       "<Figure size 1080x576 with 3 Axes>"
      ]
     },
     "metadata": {
      "needs_background": "light"
     },
     "output_type": "display_data"
    }
   ],
   "source": [
    "import matplotlib.pyplot as plt\n",
    "import seaborn as sns\n",
    "from sklearn.metrics import confusion_matrix\n",
    "\n",
    "fig, axes = plt.subplots(1, 2, figsize=(15, 8))\n",
    "sns.heatmap(\n",
    "    data=confusion_matrix(y_train, y_hat_trains[0], labels=pipelines_fitted[0].steps[1][1].classes_),\n",
    "    annot=True,\n",
    "    cmap='Blues',\n",
    "    fmt='.0f',\n",
    "    ax=axes[0]\n",
    ")\n",
    "axes[0].set_title('Training')\n",
    "print(pipelines_fitted[0].steps[1][1].classes_)"
   ]
  }
 ],
 "metadata": {
  "kernelspec": {
   "display_name": "arabicnews",
   "language": "python",
   "name": "arabicnews"
  },
  "language_info": {
   "codemirror_mode": {
    "name": "ipython",
    "version": 3
   },
   "file_extension": ".py",
   "mimetype": "text/x-python",
   "name": "python",
   "nbconvert_exporter": "python",
   "pygments_lexer": "ipython3",
   "version": "3.8.11"
  }
 },
 "nbformat": 4,
 "nbformat_minor": 5
}
