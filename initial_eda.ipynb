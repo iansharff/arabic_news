{
 "cells": [
  {
   "cell_type": "code",
   "execution_count": 1,
   "id": "1afbe496",
   "metadata": {},
   "outputs": [],
   "source": [
    "# -*- coding: utf-8 -*-\n",
    "\n",
    "import os\n",
    "import sys\n",
    "import re\n",
    "import pickle\n",
    "import string\n",
    "\n",
    "import numpy as np\n",
    "import pandas as pd\n",
    "import math\n",
    "\n",
    "import matplotlib.pyplot as plt\n",
    "import seaborn as sns\n",
    "\n",
    "# Scikit Learn\n",
    "from sklearn.pipeline import Pipeline, FeatureUnion\n",
    "from sklearn.model_selection import train_test_split, GridSearchCV, RandomizedSearchCV\n",
    "from sklearn.decomposition import PCA\n",
    "from sklearn.feature_extraction.text import CountVectorizer, TfidfVectorizer, TfidfTransformer\n",
    "\n",
    "from sklearn.dummy import DummyClassifier\n",
    "from sklearn.naive_bayes import MultinomialNB, ComplementNB\n",
    "from sklearn.linear_model import LogisticRegressionCV, SGDClassifier\n",
    "from sklearn.tree import DecisionTreeClassifier\n",
    "from sklearn.ensemble import RandomForestClassifier\n",
    "\n",
    "import nltk\n",
    "from nltk.tokenize.regexp import RegexpTokenizer"
   ]
  },
  {
   "cell_type": "code",
   "execution_count": 2,
   "id": "eeabe510-69c5-4946-976c-ad8cf475fb58",
   "metadata": {},
   "outputs": [],
   "source": [
    "import camel_tools\n",
    "from camel_tools.morphology.database import MorphologyDB\n",
    "from camel_tools.morphology.analyzer import Analyzer\n",
    "from camel_tools.morphology.generator import Generator\n",
    "from camel_tools.morphology.reinflector import Reinflector\n",
    "\n",
    "from camel_tools.utils.normalize import normalize_unicode\n",
    "from camel_tools.utils.dediac import dediac_ar\n",
    "\n",
    "from camel_tools.disambig.mle import MLEDisambiguator\n",
    "from camel_tools.tokenizers.morphological import MorphologicalTokenizer\n",
    "from camel_tools.tokenizers.word import simple_word_tokenize"
   ]
  },
  {
   "cell_type": "code",
   "execution_count": null,
   "id": "0d0ff01b-e673-4256-83b2-05ad7fccc173",
   "metadata": {},
   "outputs": [],
   "source": []
  },
  {
   "cell_type": "code",
   "execution_count": 3,
   "id": "064708ac-53ac-4061-9f31-3ba4e2e3e3c0",
   "metadata": {},
   "outputs": [],
   "source": [
    "TEST_SIZE = 0.2\n",
    "SEED = 42"
   ]
  },
  {
   "cell_type": "code",
   "execution_count": 4,
   "id": "44eeed38-328f-471d-add9-f01b5307c469",
   "metadata": {},
   "outputs": [],
   "source": [
    "with open('raw_data/stopwords.txt') as f:\n",
    "    stopwords = f.read().split('\\n')"
   ]
  },
  {
   "cell_type": "code",
   "execution_count": 5,
   "id": "066b35e7-6527-4ff3-8c8f-f6895a593049",
   "metadata": {},
   "outputs": [
    {
     "name": "stdout",
     "output_type": "stream",
     "text": [
      "ينظم معهد الشارقة للفنون معرضاً فنياً تحت عنوان باقة الفن، وذلك عند الساعة السابعة من مساء اليوم في مقر المعهد في منطقة الفنون في حي الشويهين في الشارقة، وتتلاقى في المعرض إبداعات 62 طالباً من المنتسبين للدراسة في المعهد في كافة التخصصات الفنية .\n",
      "\n",
      "ينظم معهد الشارقة للفنون معرضاً فنياً تحت عنوان باقة الفن، وذلك عند الساعة السابعة من مساء اليوم في مقر المعهد في منطقة الفنون في حي الشويهين في الشارقة، وتتلاقى في المعرض إبداعات 62 طالباً من المنتسبين للدراسة في المعهد في كافة التخصصات الفنية .\n"
     ]
    }
   ],
   "source": [
    "with open('raw_data/Culture/0000.txt') as f:\n",
    "    text = f.read()\n",
    "## Analyzer  \n",
    "# db = MorphologyDB.builtin_db()\n",
    "# analyzer = Analyzer(db)\n",
    "\n",
    "text_norm = normalize_unicode(text)\n",
    "print(text, text_norm, sep='\\n\\n')"
   ]
  },
  {
   "cell_type": "code",
   "execution_count": 6,
   "id": "85868060-a23d-4764-99db-82efb44619b8",
   "metadata": {},
   "outputs": [
    {
     "name": "stdout",
     "output_type": "stream",
     "text": [
      "نَظَّم,  مَعْهَد,  شارِقَة,  فَنّ,  مَعْرِض,  فَنِّيّ,  عُنْوان,  باقَة,  فَنّ,  ذٰلِكَ,  ساعَة,  سابِع,  مَقَرّ,  مَعْهَد,  مِنْطَقَة,  فَنّ,  حَيّ,  الشويهين,  شارِقَة,  تَلاقَى,  مَعْرِض,  إِبْداع,  طالِب,  مُنْتَسِب,  دِراسَة,  مَعْهَد,  كافَّة,  تَخَصُّص,  فَنِّيّ\n"
     ]
    }
   ],
   "source": [
    "re_tokenizer = RegexpTokenizer(r'[\\u0621-\\u064A]+')\n",
    "re_tokens = re_tokenizer.tokenize(text_norm)\n",
    "\n",
    "tokens_filtered = list(filter(lambda x: (x not in string.punctuation) and (x not in stopwords), re_tokens))\n",
    "\n",
    "mled = MLEDisambiguator.pretrained()\n",
    "disambig = mled.disambiguate(tokens_filtered)\n",
    "\n",
    "final_tokens = [d.analyses[0].analysis['lex'] for d in disambig]\n",
    "print(*final_tokens, sep=',  ')"
   ]
  },
  {
   "cell_type": "code",
   "execution_count": 7,
   "id": "a12f273c-43db-457f-a191-1432a82aa516",
   "metadata": {},
   "outputs": [],
   "source": [
    "def tokenize(text):\n",
    "    text_norm = normalize_unicode(text)\n",
    "    \n",
    "    re_tokenizer = RegexpTokenizer(r'[\\u0621-\\u064A]+')\n",
    "    tokens_re = re_tokenizer.tokenize(text_norm)\n",
    "    \n",
    "    tokens_filtered = list(filter(lambda x: x not in stopwords, tokens_re))\n",
    "        \n",
    "    mled = MLEDisambiguator.pretrained()\n",
    "    disambig = mled.disambiguate(tokens_filtered)\n",
    "    tokens_lem = [d.analyses[0].analysis['lex'] for d in disambig]\n",
    "    \n",
    "    return tokens_lem"
   ]
  },
  {
   "cell_type": "code",
   "execution_count": 8,
   "id": "5147f4e5-213c-4f93-96e3-25683b12d795",
   "metadata": {},
   "outputs": [
    {
     "data": {
      "text/plain": [
       "['نَظَّم',\n",
       " 'مَعْهَد',\n",
       " 'شارِقَة',\n",
       " 'فَنّ',\n",
       " 'مَعْرِض',\n",
       " 'فَنِّيّ',\n",
       " 'عُنْوان',\n",
       " 'باقَة',\n",
       " 'فَنّ',\n",
       " 'ذٰلِكَ',\n",
       " 'ساعَة',\n",
       " 'سابِع',\n",
       " 'مَقَرّ',\n",
       " 'مَعْهَد',\n",
       " 'مِنْطَقَة',\n",
       " 'فَنّ',\n",
       " 'حَيّ',\n",
       " 'الشويهين',\n",
       " 'شارِقَة',\n",
       " 'تَلاقَى',\n",
       " 'مَعْرِض',\n",
       " 'إِبْداع',\n",
       " 'طالِب',\n",
       " 'مُنْتَسِب',\n",
       " 'دِراسَة',\n",
       " 'مَعْهَد',\n",
       " 'كافَّة',\n",
       " 'تَخَصُّص',\n",
       " 'فَنِّيّ']"
      ]
     },
     "execution_count": 8,
     "metadata": {},
     "output_type": "execute_result"
    }
   ],
   "source": [
    "tokenize(text)"
   ]
  },
  {
   "cell_type": "markdown",
   "id": "1d1e1992-98c9-457e-a323-a0ec0e0aff3c",
   "metadata": {},
   "source": [
    "## Full Corpus"
   ]
  },
  {
   "cell_type": "code",
   "execution_count": 9,
   "id": "d5f9cbf1-c89c-49f2-b806-acde4befbc13",
   "metadata": {},
   "outputs": [],
   "source": [
    "with open('raw_data/corpus_df.pkl', 'rb') as f:\n",
    "    corpus_df = pickle.load(f)"
   ]
  },
  {
   "cell_type": "code",
   "execution_count": 10,
   "id": "59c908f9-1cba-4334-8d16-db36ad025662",
   "metadata": {},
   "outputs": [
    {
     "name": "stdout",
     "output_type": "stream",
     "text": [
      "<class 'pandas.core.frame.DataFrame'>\n",
      "Int64Index: 45500 entries, 0 to 45499\n",
      "Data columns (total 2 columns):\n",
      " #   Column  Non-Null Count  Dtype \n",
      "---  ------  --------------  ----- \n",
      " 0   cls     45500 non-null  object\n",
      " 1   text    45500 non-null  object\n",
      "dtypes: object(2)\n",
      "memory usage: 1.0+ MB\n"
     ]
    }
   ],
   "source": [
    "corpus_df.info()"
   ]
  },
  {
   "cell_type": "code",
   "execution_count": 11,
   "id": "acc464c8-9b4f-4703-8458-650a59b2b95d",
   "metadata": {},
   "outputs": [],
   "source": [
    "from sklearn.model_selection import train_test_split\n",
    "X = corpus_df.text\n",
    "y = corpus_df.cls\n",
    "\n",
    "X_train, X_test, y_train, y_test = train_test_split(X, y, test_size=TEST_SIZE, random_state=SEED, stratify=y)"
   ]
  },
  {
   "cell_type": "code",
   "execution_count": 12,
   "id": "2520ecfb-13ca-4847-a7d1-433c2b225e6b",
   "metadata": {},
   "outputs": [],
   "source": [
    "sample = X_train.sample(frac=0.01, random_state=SEED)"
   ]
  },
  {
   "cell_type": "code",
   "execution_count": 13,
   "id": "bf4c140d-ecba-49e2-97f4-1db7b900b0e6",
   "metadata": {},
   "outputs": [],
   "source": [
    "countvec = CountVectorizer(\n",
    "    lowercase=False,\n",
    "    stop_words=stopwords,\n",
    "    max_features=10000\n",
    ")"
   ]
  },
  {
   "cell_type": "code",
   "execution_count": 14,
   "id": "34bece90-2a9d-4764-bd7a-c6be4ee4e4e2",
   "metadata": {},
   "outputs": [
    {
     "name": "stderr",
     "output_type": "stream",
     "text": [
      "/Users/iansharff/opt/anaconda3/envs/arabicnews/lib/python3.8/site-packages/sklearn/feature_extraction/text.py:382: UserWarning: Your stop_words may be inconsistent with your preprocessing. Tokenizing the stop words generated tokens ['آمين', 'آها', 'أب', 'أخ', 'أف', 'أفعل', 'أفعله', 'ؤلاء', 'إل', 'إليك', 'إليكن', 'إم', 'إيه', 'ات', 'اتان', 'ارتد', 'انفك', 'بخ', 'برح', 'بس', 'تان', 'تبد', 'تحو', 'تعل', 'حد', 'حم', 'حي', 'خب', 'ذار', 'ذان', 'سيما', 'شتان', 'صه', 'ظن', 'عد', 'قط', 'كأي', 'مر', 'مكان', 'مكانكن', 'نب', 'هات', 'هاك', 'هب', 'واها', 'وراء'] not in stop_words.\n",
      "  warnings.warn('Your stop_words may be inconsistent with '\n"
     ]
    }
   ],
   "source": [
    "X_train_cv = countvec.fit_transform(X_train)\n",
    "X_test_cv = countvec.transform(X_test)"
   ]
  },
  {
   "cell_type": "code",
   "execution_count": 15,
   "id": "7bf555e9-83fa-49d9-bd00-8c2a742924d1",
   "metadata": {},
   "outputs": [
    {
     "data": {
      "text/html": [
       "<div>\n",
       "<style scoped>\n",
       "    .dataframe tbody tr th:only-of-type {\n",
       "        vertical-align: middle;\n",
       "    }\n",
       "\n",
       "    .dataframe tbody tr th {\n",
       "        vertical-align: top;\n",
       "    }\n",
       "\n",
       "    .dataframe thead th {\n",
       "        text-align: right;\n",
       "    }\n",
       "</style>\n",
       "<table border=\"1\" class=\"dataframe\">\n",
       "  <thead>\n",
       "    <tr style=\"text-align: right;\">\n",
       "      <th></th>\n",
       "      <th>تشير</th>\n",
       "      <th>خبراء</th>\n",
       "      <th>برامج</th>\n",
       "      <th>الحماية</th>\n",
       "      <th>أجهزة</th>\n",
       "      <th>الكمبيوتر</th>\n",
       "      <th>الإمارات</th>\n",
       "      <th>ارتفاع</th>\n",
       "      <th>معدلات</th>\n",
       "      <th>الهجمات</th>\n",
       "      <th>...</th>\n",
       "      <th>بلاتيني</th>\n",
       "      <th>التطعيم</th>\n",
       "      <th>توام</th>\n",
       "      <th>مشغلي</th>\n",
       "      <th>المصاحبة</th>\n",
       "      <th>كردستان</th>\n",
       "      <th>النمل</th>\n",
       "      <th>دارفور</th>\n",
       "      <th>بوسكي</th>\n",
       "      <th>حديثي</th>\n",
       "    </tr>\n",
       "  </thead>\n",
       "  <tbody>\n",
       "    <tr>\n",
       "      <th>0</th>\n",
       "      <td>0</td>\n",
       "      <td>0</td>\n",
       "      <td>0</td>\n",
       "      <td>0</td>\n",
       "      <td>0</td>\n",
       "      <td>0</td>\n",
       "      <td>0</td>\n",
       "      <td>0</td>\n",
       "      <td>0</td>\n",
       "      <td>0</td>\n",
       "      <td>...</td>\n",
       "      <td>0</td>\n",
       "      <td>0</td>\n",
       "      <td>0</td>\n",
       "      <td>0</td>\n",
       "      <td>0</td>\n",
       "      <td>0</td>\n",
       "      <td>0</td>\n",
       "      <td>0</td>\n",
       "      <td>0</td>\n",
       "      <td>0</td>\n",
       "    </tr>\n",
       "    <tr>\n",
       "      <th>1</th>\n",
       "      <td>0</td>\n",
       "      <td>0</td>\n",
       "      <td>0</td>\n",
       "      <td>0</td>\n",
       "      <td>0</td>\n",
       "      <td>0</td>\n",
       "      <td>0</td>\n",
       "      <td>0</td>\n",
       "      <td>0</td>\n",
       "      <td>0</td>\n",
       "      <td>...</td>\n",
       "      <td>0</td>\n",
       "      <td>0</td>\n",
       "      <td>0</td>\n",
       "      <td>0</td>\n",
       "      <td>0</td>\n",
       "      <td>0</td>\n",
       "      <td>0</td>\n",
       "      <td>0</td>\n",
       "      <td>0</td>\n",
       "      <td>0</td>\n",
       "    </tr>\n",
       "    <tr>\n",
       "      <th>2</th>\n",
       "      <td>0</td>\n",
       "      <td>0</td>\n",
       "      <td>0</td>\n",
       "      <td>0</td>\n",
       "      <td>0</td>\n",
       "      <td>0</td>\n",
       "      <td>0</td>\n",
       "      <td>0</td>\n",
       "      <td>0</td>\n",
       "      <td>0</td>\n",
       "      <td>...</td>\n",
       "      <td>0</td>\n",
       "      <td>0</td>\n",
       "      <td>0</td>\n",
       "      <td>0</td>\n",
       "      <td>0</td>\n",
       "      <td>0</td>\n",
       "      <td>0</td>\n",
       "      <td>0</td>\n",
       "      <td>0</td>\n",
       "      <td>0</td>\n",
       "    </tr>\n",
       "    <tr>\n",
       "      <th>3</th>\n",
       "      <td>0</td>\n",
       "      <td>0</td>\n",
       "      <td>0</td>\n",
       "      <td>0</td>\n",
       "      <td>0</td>\n",
       "      <td>0</td>\n",
       "      <td>0</td>\n",
       "      <td>0</td>\n",
       "      <td>0</td>\n",
       "      <td>0</td>\n",
       "      <td>...</td>\n",
       "      <td>0</td>\n",
       "      <td>0</td>\n",
       "      <td>0</td>\n",
       "      <td>0</td>\n",
       "      <td>0</td>\n",
       "      <td>0</td>\n",
       "      <td>0</td>\n",
       "      <td>0</td>\n",
       "      <td>0</td>\n",
       "      <td>0</td>\n",
       "    </tr>\n",
       "    <tr>\n",
       "      <th>4</th>\n",
       "      <td>0</td>\n",
       "      <td>0</td>\n",
       "      <td>0</td>\n",
       "      <td>0</td>\n",
       "      <td>0</td>\n",
       "      <td>0</td>\n",
       "      <td>0</td>\n",
       "      <td>0</td>\n",
       "      <td>0</td>\n",
       "      <td>0</td>\n",
       "      <td>...</td>\n",
       "      <td>0</td>\n",
       "      <td>0</td>\n",
       "      <td>0</td>\n",
       "      <td>0</td>\n",
       "      <td>0</td>\n",
       "      <td>1</td>\n",
       "      <td>0</td>\n",
       "      <td>0</td>\n",
       "      <td>0</td>\n",
       "      <td>0</td>\n",
       "    </tr>\n",
       "    <tr>\n",
       "      <th>...</th>\n",
       "      <td>...</td>\n",
       "      <td>...</td>\n",
       "      <td>...</td>\n",
       "      <td>...</td>\n",
       "      <td>...</td>\n",
       "      <td>...</td>\n",
       "      <td>...</td>\n",
       "      <td>...</td>\n",
       "      <td>...</td>\n",
       "      <td>...</td>\n",
       "      <td>...</td>\n",
       "      <td>...</td>\n",
       "      <td>...</td>\n",
       "      <td>...</td>\n",
       "      <td>...</td>\n",
       "      <td>...</td>\n",
       "      <td>...</td>\n",
       "      <td>...</td>\n",
       "      <td>...</td>\n",
       "      <td>...</td>\n",
       "      <td>...</td>\n",
       "    </tr>\n",
       "    <tr>\n",
       "      <th>36395</th>\n",
       "      <td>0</td>\n",
       "      <td>0</td>\n",
       "      <td>0</td>\n",
       "      <td>0</td>\n",
       "      <td>0</td>\n",
       "      <td>0</td>\n",
       "      <td>0</td>\n",
       "      <td>0</td>\n",
       "      <td>0</td>\n",
       "      <td>0</td>\n",
       "      <td>...</td>\n",
       "      <td>0</td>\n",
       "      <td>0</td>\n",
       "      <td>1</td>\n",
       "      <td>0</td>\n",
       "      <td>0</td>\n",
       "      <td>0</td>\n",
       "      <td>0</td>\n",
       "      <td>0</td>\n",
       "      <td>0</td>\n",
       "      <td>0</td>\n",
       "    </tr>\n",
       "    <tr>\n",
       "      <th>36396</th>\n",
       "      <td>0</td>\n",
       "      <td>0</td>\n",
       "      <td>0</td>\n",
       "      <td>0</td>\n",
       "      <td>0</td>\n",
       "      <td>0</td>\n",
       "      <td>0</td>\n",
       "      <td>0</td>\n",
       "      <td>0</td>\n",
       "      <td>0</td>\n",
       "      <td>...</td>\n",
       "      <td>0</td>\n",
       "      <td>0</td>\n",
       "      <td>0</td>\n",
       "      <td>0</td>\n",
       "      <td>0</td>\n",
       "      <td>0</td>\n",
       "      <td>0</td>\n",
       "      <td>0</td>\n",
       "      <td>0</td>\n",
       "      <td>0</td>\n",
       "    </tr>\n",
       "    <tr>\n",
       "      <th>36397</th>\n",
       "      <td>0</td>\n",
       "      <td>0</td>\n",
       "      <td>0</td>\n",
       "      <td>0</td>\n",
       "      <td>0</td>\n",
       "      <td>0</td>\n",
       "      <td>0</td>\n",
       "      <td>0</td>\n",
       "      <td>0</td>\n",
       "      <td>0</td>\n",
       "      <td>...</td>\n",
       "      <td>0</td>\n",
       "      <td>0</td>\n",
       "      <td>0</td>\n",
       "      <td>0</td>\n",
       "      <td>0</td>\n",
       "      <td>0</td>\n",
       "      <td>0</td>\n",
       "      <td>0</td>\n",
       "      <td>0</td>\n",
       "      <td>0</td>\n",
       "    </tr>\n",
       "    <tr>\n",
       "      <th>36398</th>\n",
       "      <td>0</td>\n",
       "      <td>0</td>\n",
       "      <td>0</td>\n",
       "      <td>0</td>\n",
       "      <td>0</td>\n",
       "      <td>0</td>\n",
       "      <td>0</td>\n",
       "      <td>0</td>\n",
       "      <td>0</td>\n",
       "      <td>0</td>\n",
       "      <td>...</td>\n",
       "      <td>0</td>\n",
       "      <td>0</td>\n",
       "      <td>0</td>\n",
       "      <td>0</td>\n",
       "      <td>0</td>\n",
       "      <td>0</td>\n",
       "      <td>0</td>\n",
       "      <td>0</td>\n",
       "      <td>0</td>\n",
       "      <td>0</td>\n",
       "    </tr>\n",
       "    <tr>\n",
       "      <th>36399</th>\n",
       "      <td>0</td>\n",
       "      <td>0</td>\n",
       "      <td>0</td>\n",
       "      <td>0</td>\n",
       "      <td>0</td>\n",
       "      <td>0</td>\n",
       "      <td>0</td>\n",
       "      <td>0</td>\n",
       "      <td>0</td>\n",
       "      <td>0</td>\n",
       "      <td>...</td>\n",
       "      <td>0</td>\n",
       "      <td>0</td>\n",
       "      <td>0</td>\n",
       "      <td>0</td>\n",
       "      <td>0</td>\n",
       "      <td>0</td>\n",
       "      <td>0</td>\n",
       "      <td>0</td>\n",
       "      <td>0</td>\n",
       "      <td>0</td>\n",
       "    </tr>\n",
       "  </tbody>\n",
       "</table>\n",
       "<p>36400 rows × 10000 columns</p>\n",
       "</div>"
      ],
      "text/plain": [
       "       تشير  خبراء  برامج  الحماية  أجهزة  الكمبيوتر  الإمارات  ارتفاع  \\\n",
       "0         0      0      0        0      0          0         0       0   \n",
       "1         0      0      0        0      0          0         0       0   \n",
       "2         0      0      0        0      0          0         0       0   \n",
       "3         0      0      0        0      0          0         0       0   \n",
       "4         0      0      0        0      0          0         0       0   \n",
       "...     ...    ...    ...      ...    ...        ...       ...     ...   \n",
       "36395     0      0      0        0      0          0         0       0   \n",
       "36396     0      0      0        0      0          0         0       0   \n",
       "36397     0      0      0        0      0          0         0       0   \n",
       "36398     0      0      0        0      0          0         0       0   \n",
       "36399     0      0      0        0      0          0         0       0   \n",
       "\n",
       "       معدلات  الهجمات  ...  بلاتيني  التطعيم  توام  مشغلي  المصاحبة  كردستان  \\\n",
       "0           0        0  ...        0        0     0      0         0        0   \n",
       "1           0        0  ...        0        0     0      0         0        0   \n",
       "2           0        0  ...        0        0     0      0         0        0   \n",
       "3           0        0  ...        0        0     0      0         0        0   \n",
       "4           0        0  ...        0        0     0      0         0        1   \n",
       "...       ...      ...  ...      ...      ...   ...    ...       ...      ...   \n",
       "36395       0        0  ...        0        0     1      0         0        0   \n",
       "36396       0        0  ...        0        0     0      0         0        0   \n",
       "36397       0        0  ...        0        0     0      0         0        0   \n",
       "36398       0        0  ...        0        0     0      0         0        0   \n",
       "36399       0        0  ...        0        0     0      0         0        0   \n",
       "\n",
       "       النمل  دارفور  بوسكي  حديثي  \n",
       "0          0       0      0      0  \n",
       "1          0       0      0      0  \n",
       "2          0       0      0      0  \n",
       "3          0       0      0      0  \n",
       "4          0       0      0      0  \n",
       "...      ...     ...    ...    ...  \n",
       "36395      0       0      0      0  \n",
       "36396      0       0      0      0  \n",
       "36397      0       0      0      0  \n",
       "36398      0       0      0      0  \n",
       "36399      0       0      0      0  \n",
       "\n",
       "[36400 rows x 10000 columns]"
      ]
     },
     "execution_count": 15,
     "metadata": {},
     "output_type": "execute_result"
    }
   ],
   "source": [
    "pd.DataFrame(X_train_cv.todense(), columns=countvec.vocabulary_)"
   ]
  },
  {
   "cell_type": "code",
   "execution_count": 16,
   "id": "e8c54297-507c-4a19-84e3-6f4fe4336dab",
   "metadata": {},
   "outputs": [
    {
     "data": {
      "text/plain": [
       "MultinomialNB(alpha=1.0, class_prior=None, fit_prior=True)"
      ]
     },
     "execution_count": 16,
     "metadata": {},
     "output_type": "execute_result"
    }
   ],
   "source": [
    "nb = MultinomialNB()\n",
    "\n",
    "nb.fit(X_train_cv, y_train)"
   ]
  },
  {
   "cell_type": "code",
   "execution_count": 17,
   "id": "2767ae0f-093d-43f4-ae90-8eff7a3865fb",
   "metadata": {},
   "outputs": [],
   "source": [
    "y_pred = nb.predict(X_train_cv)\n",
    "y_pred_test = nb.predict(X_test_cv)"
   ]
  },
  {
   "cell_type": "code",
   "execution_count": 18,
   "id": "31b67ee9-8d8d-4bc4-a4ae-479ee8eb39ea",
   "metadata": {},
   "outputs": [],
   "source": [
    "from sklearn.metrics import classification_report"
   ]
  },
  {
   "cell_type": "code",
   "execution_count": 19,
   "id": "b79cd452-7ef4-45a9-b2df-cc94336d2f92",
   "metadata": {},
   "outputs": [
    {
     "name": "stdout",
     "output_type": "stream",
     "text": [
      "              precision    recall  f1-score   support\n",
      "\n",
      "     culture       0.91      0.97      0.94      5200\n",
      "     finance       0.99      0.91      0.95      5200\n",
      "     medical       0.95      0.99      0.97      5200\n",
      "    politics       0.97      0.98      0.97      5200\n",
      "    religion       0.97      0.89      0.93      5200\n",
      "      sports       1.00      0.98      0.99      5200\n",
      "        tech       0.92      0.98      0.95      5200\n",
      "\n",
      "    accuracy                           0.96     36400\n",
      "   macro avg       0.96      0.96      0.96     36400\n",
      "weighted avg       0.96      0.96      0.96     36400\n",
      "\n"
     ]
    }
   ],
   "source": [
    "print(classification_report(y_train, y_pred))"
   ]
  },
  {
   "cell_type": "code",
   "execution_count": 20,
   "id": "12d3ba6a-1523-4b1d-ae21-4420c07e69fc",
   "metadata": {},
   "outputs": [
    {
     "name": "stdout",
     "output_type": "stream",
     "text": [
      "              precision    recall  f1-score   support\n",
      "\n",
      "     culture       0.91      0.96      0.93      1300\n",
      "     finance       0.99      0.90      0.95      1300\n",
      "     medical       0.94      0.98      0.96      1300\n",
      "    politics       0.97      0.97      0.97      1300\n",
      "    religion       0.97      0.88      0.92      1300\n",
      "      sports       1.00      0.98      0.99      1300\n",
      "        tech       0.90      0.98      0.94      1300\n",
      "\n",
      "    accuracy                           0.95      9100\n",
      "   macro avg       0.95      0.95      0.95      9100\n",
      "weighted avg       0.95      0.95      0.95      9100\n",
      "\n"
     ]
    }
   ],
   "source": [
    "print(classification_report(y_test, y_pred_test))"
   ]
  },
  {
   "cell_type": "code",
   "execution_count": 23,
   "id": "328ce1f7-19da-42c4-8ac8-aaba8f590a9c",
   "metadata": {},
   "outputs": [],
   "source": [
    "with open('outputs/first_model.pkl', 'wb') as m:\n",
    "    pickle.dump(nb, m)"
   ]
  },
  {
   "cell_type": "code",
   "execution_count": null,
   "id": "16d1a941-3745-4d9c-81c8-ca737662f703",
   "metadata": {},
   "outputs": [],
   "source": []
  }
 ],
 "metadata": {
  "kernelspec": {
   "display_name": "arabicnews",
   "language": "python",
   "name": "arabicnews"
  },
  "language_info": {
   "codemirror_mode": {
    "name": "ipython",
    "version": 3
   },
   "file_extension": ".py",
   "mimetype": "text/x-python",
   "name": "python",
   "nbconvert_exporter": "python",
   "pygments_lexer": "ipython3",
   "version": "3.8.11"
  },
  "metadata": {
   "interpreter": {
    "hash": "c781e7e7c556a0a96987dc067ce9407646832babf618d3d3c4d5f966ec834848"
   }
  }
 },
 "nbformat": 4,
 "nbformat_minor": 5
}
