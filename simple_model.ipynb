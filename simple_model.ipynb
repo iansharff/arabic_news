{
 "cells": [
  {
   "cell_type": "markdown",
   "id": "24969552-512e-4fa3-aeeb-d55c09436266",
   "metadata": {},
   "source": [
    "# First Simple Model\n",
    "\n",
    "_Author: Ian Sharff_"
   ]
  },
  {
   "cell_type": "markdown",
   "id": "f1b92465-a54d-4de2-8054-582d2d5ad12c",
   "metadata": {},
   "source": [
    "This is the initial model created by assembling a corpus news articles written in Modern Standard Arabic (العربية الفصحى). These articles were obtained from <a href=\"https://www.kaggle.com/haithemhermessi/sanad-dataset\">this dataset from Kaggle</a>, and consist of 7 categories, each with 6,500 articles. First, count vectorization was performed with the 10,000 most common words (removing the 750 most common Arabic stopwords, obtained from <a href= \"https://github.com/mohataher/arabic-stop-words/blob/master/list.txt\">here</a>), and training a Multinomial Naïve Bayes model with 80% of the stratified data, reserving the remaining 20% for testing."
   ]
  },
  {
   "cell_type": "code",
   "execution_count": null,
   "id": "a204816c-af6a-4720-8410-c26858f83e91",
   "metadata": {},
   "outputs": [],
   "source": [
    "import "
   ]
  }
 ],
 "metadata": {
  "kernelspec": {
   "display_name": "arabicnews",
   "language": "python",
   "name": "arabicnews"
  },
  "language_info": {
   "codemirror_mode": {
    "name": "ipython",
    "version": 3
   },
   "file_extension": ".py",
   "mimetype": "text/x-python",
   "name": "python",
   "nbconvert_exporter": "python",
   "pygments_lexer": "ipython3",
   "version": "3.8.11"
  }
 },
 "nbformat": 4,
 "nbformat_minor": 5
}
