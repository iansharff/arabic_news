{
 "cells": [
  {
   "cell_type": "markdown",
   "id": "9908114a-bbba-4d05-9372-9a2ca00af3ca",
   "metadata": {},
   "source": [
    "# Model Tuning and Evaluation"
   ]
  },
  {
   "cell_type": "markdown",
   "id": "52166647-400f-4e4b-a394-f737b5fc2d09",
   "metadata": {},
   "source": [
    "The best performing models were found to be the Multinomial Naïve Bayes and Random Forest Classifier models judging from the confusion matrices produced in the [modeling notebook](./01_modeling.ipynb), so these will be evaluated further with hyperparameter tuning. "
   ]
  },
  {
   "cell_type": "code",
   "execution_count": 6,
   "id": "fda2f751-3d7b-47b5-81e7-ced807a28aee",
   "metadata": {},
   "outputs": [],
   "source": [
    "from sklearn.pipeline import Pipeline\n",
    "from sklearn.model_selection import train_test_split, GridSearchCV\n",
    "\n",
    "from sklearn.feature_extraction.text import CountVectorizer, TfidfTransformer\n",
    "from sklearn.naive_bayes import MultinomialNB\n",
    "from sklearn.ensemble import RandomForestClassifier\n",
    "\n",
    "from tools import misc\n",
    "from tools import visualizations as vis"
   ]
  },
  {
   "cell_type": "code",
   "execution_count": 5,
   "id": "45edcb28-7634-4111-96bf-3d17f8d01352",
   "metadata": {},
   "outputs": [
    {
     "data": {
      "text/html": [
       "<div>\n",
       "<style scoped>\n",
       "    .dataframe tbody tr th:only-of-type {\n",
       "        vertical-align: middle;\n",
       "    }\n",
       "\n",
       "    .dataframe tbody tr th {\n",
       "        vertical-align: top;\n",
       "    }\n",
       "\n",
       "    .dataframe thead th {\n",
       "        text-align: right;\n",
       "    }\n",
       "</style>\n",
       "<table border=\"1\" class=\"dataframe\">\n",
       "  <thead>\n",
       "    <tr style=\"text-align: right;\">\n",
       "      <th></th>\n",
       "      <th>cls</th>\n",
       "      <th>text</th>\n",
       "    </tr>\n",
       "    <tr>\n",
       "      <th>id</th>\n",
       "      <th></th>\n",
       "      <th></th>\n",
       "    </tr>\n",
       "  </thead>\n",
       "  <tbody>\n",
       "    <tr>\n",
       "      <th>0</th>\n",
       "      <td>sports</td>\n",
       "      <td>أعلن المدرب النمسوي لبوروسيا دورتموند بيتر شتو...</td>\n",
       "    </tr>\n",
       "    <tr>\n",
       "      <th>1</th>\n",
       "      <td>sports</td>\n",
       "      <td>ذكرت وسائل الإعلام البلغارية الجمعة ان العداءة...</td>\n",
       "    </tr>\n",
       "    <tr>\n",
       "      <th>2</th>\n",
       "      <td>sports</td>\n",
       "      <td>برز اسم نجم مانشستر يونايتد رايان غيغز (36 عام...</td>\n",
       "    </tr>\n",
       "    <tr>\n",
       "      <th>3</th>\n",
       "      <td>sports</td>\n",
       "      <td>قال مدرب نادي انتر ميلان الإيطالي خوزيه موريني...</td>\n",
       "    </tr>\n",
       "    <tr>\n",
       "      <th>4</th>\n",
       "      <td>sports</td>\n",
       "      <td>بيتر تشيك: حارس مرمى تشيكي ولد في 20 مايو عام ...</td>\n",
       "    </tr>\n",
       "  </tbody>\n",
       "</table>\n",
       "</div>"
      ],
      "text/plain": [
       "       cls                                               text\n",
       "id                                                           \n",
       "0   sports  أعلن المدرب النمسوي لبوروسيا دورتموند بيتر شتو...\n",
       "1   sports  ذكرت وسائل الإعلام البلغارية الجمعة ان العداءة...\n",
       "2   sports  برز اسم نجم مانشستر يونايتد رايان غيغز (36 عام...\n",
       "3   sports  قال مدرب نادي انتر ميلان الإيطالي خوزيه موريني...\n",
       "4   sports  بيتر تشيك: حارس مرمى تشيكي ولد في 20 مايو عام ..."
      ]
     },
     "execution_count": 5,
     "metadata": {},
     "output_type": "execute_result"
    }
   ],
   "source": [
    "data = misc.load('raw_data/corpus_df.pkl')\n",
    "data.head()"
   ]
  },
  {
   "cell_type": "code",
   "execution_count": null,
   "id": "1d94e8e9-3395-4ae9-a78f-0eff66c3d96d",
   "metadata": {},
   "outputs": [],
   "source": [
    "count_vectorizer = CountVectorizer(\n",
    "    lowercase=False,\n",
    "    stop_words=stopwords,\n",
    "    strip_accents='unicode',\n",
    "    token_pattern=PATTERN,\n",
    "    max_features=MAX_FEATURES\n",
    ")"
   ]
  }
 ],
 "metadata": {
  "kernelspec": {
   "display_name": "arabicnews",
   "language": "python",
   "name": "arabicnews"
  },
  "language_info": {
   "codemirror_mode": {
    "name": "ipython",
    "version": 3
   },
   "file_extension": ".py",
   "mimetype": "text/x-python",
   "name": "python",
   "nbconvert_exporter": "python",
   "pygments_lexer": "ipython3",
   "version": "3.8.11"
  }
 },
 "nbformat": 4,
 "nbformat_minor": 5
}
